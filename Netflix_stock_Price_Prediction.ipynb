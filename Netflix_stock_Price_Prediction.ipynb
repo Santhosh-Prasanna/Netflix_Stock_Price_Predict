{
 "cells": [
  {
   "cell_type": "markdown",
   "id": "f4f636d2",
   "metadata": {},
   "source": [
    "# NETFLIX STOCK MARKET ANALYSIS# "
   ]
  },
  {
   "cell_type": "markdown",
   "id": "af390c16",
   "metadata": {},
   "source": [
    "## About Dataset"
   ]
  },
  {
   "cell_type": "markdown",
   "id": "6ececb9f",
   "metadata": {},
   "source": [
    "The Dataset contains data for 5 years ie. from 5th Feb 2018 to 5th Feb 2022\n",
    "\n",
    "The art of forecasting stock prices has been a difficult task for many of the researchers and analysts. In fact, investors are highly interested in the research area of stock price prediction. For a good and successful investment, many investors are keen on knowing the future situation of the stock market. Good and effective prediction systems for the stock market help traders, investors, and analyst by providing supportive information like the future direction of the stock market.\n",
    "\n"
   ]
  },
  {
   "cell_type": "markdown",
   "id": "e2cd7fee",
   "metadata": {},
   "source": [
    "#### source : Kaggle\n"
   ]
  },
  {
   "cell_type": "markdown",
   "id": "77ca1ca7",
   "metadata": {},
   "source": [
    "#### Author : Santhsoh"
   ]
  },
  {
   "cell_type": "markdown",
   "id": "2bb0d262",
   "metadata": {},
   "source": [
    "##  Models : Linear Regression, Decision Tree, Random Forest"
   ]
  },
  {
   "cell_type": "markdown",
   "id": "11f62cfc",
   "metadata": {},
   "source": [
    "importing the required Libraries"
   ]
  },
  {
   "cell_type": "code",
   "execution_count": 2,
   "id": "1f9d37a3",
   "metadata": {},
   "outputs": [],
   "source": [
    "import pandas as pd\n",
    "import numpy as np\n",
    "import matplotlib.pyplot as plt\n",
    "import seaborn as sns\n",
    "from sklearn import preprocessing\n",
    "from sklearn.model_selection import train_test_split\n",
    "from sklearn.linear_model import LinearRegression\n",
    "from sklearn.metrics import mean_squared_error\n",
    "from sklearn.tree import DecisionTreeRegressor\n",
    "from sklearn.ensemble import RandomForestRegressor\n"
   ]
  },
  {
   "cell_type": "markdown",
   "id": "be5ce3f3",
   "metadata": {},
   "source": [
    "importing Dataset"
   ]
  },
  {
   "cell_type": "code",
   "execution_count": 3,
   "id": "95cbb3e7",
   "metadata": {},
   "outputs": [
    {
     "data": {
      "text/html": [
       "<div>\n",
       "<style scoped>\n",
       "    .dataframe tbody tr th:only-of-type {\n",
       "        vertical-align: middle;\n",
       "    }\n",
       "\n",
       "    .dataframe tbody tr th {\n",
       "        vertical-align: top;\n",
       "    }\n",
       "\n",
       "    .dataframe thead th {\n",
       "        text-align: right;\n",
       "    }\n",
       "</style>\n",
       "<table border=\"1\" class=\"dataframe\">\n",
       "  <thead>\n",
       "    <tr style=\"text-align: right;\">\n",
       "      <th></th>\n",
       "      <th>Date</th>\n",
       "      <th>Open</th>\n",
       "      <th>High</th>\n",
       "      <th>Low</th>\n",
       "      <th>Close</th>\n",
       "      <th>Adj Close</th>\n",
       "      <th>Volume</th>\n",
       "    </tr>\n",
       "  </thead>\n",
       "  <tbody>\n",
       "    <tr>\n",
       "      <th>0</th>\n",
       "      <td>2018-02-05</td>\n",
       "      <td>262.000000</td>\n",
       "      <td>267.899994</td>\n",
       "      <td>250.029999</td>\n",
       "      <td>254.259995</td>\n",
       "      <td>254.259995</td>\n",
       "      <td>11896100</td>\n",
       "    </tr>\n",
       "    <tr>\n",
       "      <th>1</th>\n",
       "      <td>2018-02-06</td>\n",
       "      <td>247.699997</td>\n",
       "      <td>266.700012</td>\n",
       "      <td>245.000000</td>\n",
       "      <td>265.720001</td>\n",
       "      <td>265.720001</td>\n",
       "      <td>12595800</td>\n",
       "    </tr>\n",
       "    <tr>\n",
       "      <th>2</th>\n",
       "      <td>2018-02-07</td>\n",
       "      <td>266.579987</td>\n",
       "      <td>272.450012</td>\n",
       "      <td>264.329987</td>\n",
       "      <td>264.559998</td>\n",
       "      <td>264.559998</td>\n",
       "      <td>8981500</td>\n",
       "    </tr>\n",
       "    <tr>\n",
       "      <th>3</th>\n",
       "      <td>2018-02-08</td>\n",
       "      <td>267.079987</td>\n",
       "      <td>267.619995</td>\n",
       "      <td>250.000000</td>\n",
       "      <td>250.100006</td>\n",
       "      <td>250.100006</td>\n",
       "      <td>9306700</td>\n",
       "    </tr>\n",
       "    <tr>\n",
       "      <th>4</th>\n",
       "      <td>2018-02-09</td>\n",
       "      <td>253.850006</td>\n",
       "      <td>255.800003</td>\n",
       "      <td>236.110001</td>\n",
       "      <td>249.470001</td>\n",
       "      <td>249.470001</td>\n",
       "      <td>16906900</td>\n",
       "    </tr>\n",
       "    <tr>\n",
       "      <th>...</th>\n",
       "      <td>...</td>\n",
       "      <td>...</td>\n",
       "      <td>...</td>\n",
       "      <td>...</td>\n",
       "      <td>...</td>\n",
       "      <td>...</td>\n",
       "      <td>...</td>\n",
       "    </tr>\n",
       "    <tr>\n",
       "      <th>1004</th>\n",
       "      <td>2022-01-31</td>\n",
       "      <td>401.970001</td>\n",
       "      <td>427.700012</td>\n",
       "      <td>398.200012</td>\n",
       "      <td>427.140015</td>\n",
       "      <td>427.140015</td>\n",
       "      <td>20047500</td>\n",
       "    </tr>\n",
       "    <tr>\n",
       "      <th>1005</th>\n",
       "      <td>2022-02-01</td>\n",
       "      <td>432.959991</td>\n",
       "      <td>458.480011</td>\n",
       "      <td>425.540009</td>\n",
       "      <td>457.130005</td>\n",
       "      <td>457.130005</td>\n",
       "      <td>22542300</td>\n",
       "    </tr>\n",
       "    <tr>\n",
       "      <th>1006</th>\n",
       "      <td>2022-02-02</td>\n",
       "      <td>448.250000</td>\n",
       "      <td>451.980011</td>\n",
       "      <td>426.480011</td>\n",
       "      <td>429.480011</td>\n",
       "      <td>429.480011</td>\n",
       "      <td>14346000</td>\n",
       "    </tr>\n",
       "    <tr>\n",
       "      <th>1007</th>\n",
       "      <td>2022-02-03</td>\n",
       "      <td>421.440002</td>\n",
       "      <td>429.260010</td>\n",
       "      <td>404.279999</td>\n",
       "      <td>405.600006</td>\n",
       "      <td>405.600006</td>\n",
       "      <td>9905200</td>\n",
       "    </tr>\n",
       "    <tr>\n",
       "      <th>1008</th>\n",
       "      <td>2022-02-04</td>\n",
       "      <td>407.309998</td>\n",
       "      <td>412.769989</td>\n",
       "      <td>396.640015</td>\n",
       "      <td>410.170013</td>\n",
       "      <td>410.170013</td>\n",
       "      <td>7782400</td>\n",
       "    </tr>\n",
       "  </tbody>\n",
       "</table>\n",
       "<p>1009 rows × 7 columns</p>\n",
       "</div>"
      ],
      "text/plain": [
       "            Date        Open        High         Low       Close   Adj Close  \\\n",
       "0     2018-02-05  262.000000  267.899994  250.029999  254.259995  254.259995   \n",
       "1     2018-02-06  247.699997  266.700012  245.000000  265.720001  265.720001   \n",
       "2     2018-02-07  266.579987  272.450012  264.329987  264.559998  264.559998   \n",
       "3     2018-02-08  267.079987  267.619995  250.000000  250.100006  250.100006   \n",
       "4     2018-02-09  253.850006  255.800003  236.110001  249.470001  249.470001   \n",
       "...          ...         ...         ...         ...         ...         ...   \n",
       "1004  2022-01-31  401.970001  427.700012  398.200012  427.140015  427.140015   \n",
       "1005  2022-02-01  432.959991  458.480011  425.540009  457.130005  457.130005   \n",
       "1006  2022-02-02  448.250000  451.980011  426.480011  429.480011  429.480011   \n",
       "1007  2022-02-03  421.440002  429.260010  404.279999  405.600006  405.600006   \n",
       "1008  2022-02-04  407.309998  412.769989  396.640015  410.170013  410.170013   \n",
       "\n",
       "        Volume  \n",
       "0     11896100  \n",
       "1     12595800  \n",
       "2      8981500  \n",
       "3      9306700  \n",
       "4     16906900  \n",
       "...        ...  \n",
       "1004  20047500  \n",
       "1005  22542300  \n",
       "1006  14346000  \n",
       "1007   9905200  \n",
       "1008   7782400  \n",
       "\n",
       "[1009 rows x 7 columns]"
      ]
     },
     "execution_count": 3,
     "metadata": {},
     "output_type": "execute_result"
    }
   ],
   "source": [
    "NFLX_stocks = pd.read_csv(\"C:/Users/natu/Downloads/NFLX.csv\")\n",
    "NFLX_stocks"
   ]
  },
  {
   "cell_type": "markdown",
   "id": "ea1442ad",
   "metadata": {},
   "source": [
    "## Data Preprocessing"
   ]
  },
  {
   "cell_type": "code",
   "execution_count": 4,
   "id": "06ed8951",
   "metadata": {},
   "outputs": [
    {
     "data": {
      "text/html": [
       "<div>\n",
       "<style scoped>\n",
       "    .dataframe tbody tr th:only-of-type {\n",
       "        vertical-align: middle;\n",
       "    }\n",
       "\n",
       "    .dataframe tbody tr th {\n",
       "        vertical-align: top;\n",
       "    }\n",
       "\n",
       "    .dataframe thead th {\n",
       "        text-align: right;\n",
       "    }\n",
       "</style>\n",
       "<table border=\"1\" class=\"dataframe\">\n",
       "  <thead>\n",
       "    <tr style=\"text-align: right;\">\n",
       "      <th></th>\n",
       "      <th>Date</th>\n",
       "      <th>Open</th>\n",
       "      <th>High</th>\n",
       "      <th>Low</th>\n",
       "      <th>Close</th>\n",
       "      <th>Adj Close</th>\n",
       "      <th>Volume</th>\n",
       "    </tr>\n",
       "  </thead>\n",
       "  <tbody>\n",
       "    <tr>\n",
       "      <th>0</th>\n",
       "      <td>2018-02-05</td>\n",
       "      <td>262.000000</td>\n",
       "      <td>267.899994</td>\n",
       "      <td>250.029999</td>\n",
       "      <td>254.259995</td>\n",
       "      <td>254.259995</td>\n",
       "      <td>11896100</td>\n",
       "    </tr>\n",
       "    <tr>\n",
       "      <th>1</th>\n",
       "      <td>2018-02-06</td>\n",
       "      <td>247.699997</td>\n",
       "      <td>266.700012</td>\n",
       "      <td>245.000000</td>\n",
       "      <td>265.720001</td>\n",
       "      <td>265.720001</td>\n",
       "      <td>12595800</td>\n",
       "    </tr>\n",
       "    <tr>\n",
       "      <th>2</th>\n",
       "      <td>2018-02-07</td>\n",
       "      <td>266.579987</td>\n",
       "      <td>272.450012</td>\n",
       "      <td>264.329987</td>\n",
       "      <td>264.559998</td>\n",
       "      <td>264.559998</td>\n",
       "      <td>8981500</td>\n",
       "    </tr>\n",
       "    <tr>\n",
       "      <th>3</th>\n",
       "      <td>2018-02-08</td>\n",
       "      <td>267.079987</td>\n",
       "      <td>267.619995</td>\n",
       "      <td>250.000000</td>\n",
       "      <td>250.100006</td>\n",
       "      <td>250.100006</td>\n",
       "      <td>9306700</td>\n",
       "    </tr>\n",
       "    <tr>\n",
       "      <th>4</th>\n",
       "      <td>2018-02-09</td>\n",
       "      <td>253.850006</td>\n",
       "      <td>255.800003</td>\n",
       "      <td>236.110001</td>\n",
       "      <td>249.470001</td>\n",
       "      <td>249.470001</td>\n",
       "      <td>16906900</td>\n",
       "    </tr>\n",
       "  </tbody>\n",
       "</table>\n",
       "</div>"
      ],
      "text/plain": [
       "         Date        Open        High         Low       Close   Adj Close  \\\n",
       "0  2018-02-05  262.000000  267.899994  250.029999  254.259995  254.259995   \n",
       "1  2018-02-06  247.699997  266.700012  245.000000  265.720001  265.720001   \n",
       "2  2018-02-07  266.579987  272.450012  264.329987  264.559998  264.559998   \n",
       "3  2018-02-08  267.079987  267.619995  250.000000  250.100006  250.100006   \n",
       "4  2018-02-09  253.850006  255.800003  236.110001  249.470001  249.470001   \n",
       "\n",
       "     Volume  \n",
       "0  11896100  \n",
       "1  12595800  \n",
       "2   8981500  \n",
       "3   9306700  \n",
       "4  16906900  "
      ]
     },
     "execution_count": 4,
     "metadata": {},
     "output_type": "execute_result"
    }
   ],
   "source": [
    "NFLX_stocks.head()"
   ]
  },
  {
   "cell_type": "code",
   "execution_count": 5,
   "id": "b0a4eac3",
   "metadata": {},
   "outputs": [
    {
     "data": {
      "text/html": [
       "<div>\n",
       "<style scoped>\n",
       "    .dataframe tbody tr th:only-of-type {\n",
       "        vertical-align: middle;\n",
       "    }\n",
       "\n",
       "    .dataframe tbody tr th {\n",
       "        vertical-align: top;\n",
       "    }\n",
       "\n",
       "    .dataframe thead th {\n",
       "        text-align: right;\n",
       "    }\n",
       "</style>\n",
       "<table border=\"1\" class=\"dataframe\">\n",
       "  <thead>\n",
       "    <tr style=\"text-align: right;\">\n",
       "      <th></th>\n",
       "      <th>Date</th>\n",
       "      <th>Open</th>\n",
       "      <th>High</th>\n",
       "      <th>Low</th>\n",
       "      <th>Close</th>\n",
       "      <th>Adj Close</th>\n",
       "      <th>Volume</th>\n",
       "    </tr>\n",
       "  </thead>\n",
       "  <tbody>\n",
       "    <tr>\n",
       "      <th>1004</th>\n",
       "      <td>2022-01-31</td>\n",
       "      <td>401.970001</td>\n",
       "      <td>427.700012</td>\n",
       "      <td>398.200012</td>\n",
       "      <td>427.140015</td>\n",
       "      <td>427.140015</td>\n",
       "      <td>20047500</td>\n",
       "    </tr>\n",
       "    <tr>\n",
       "      <th>1005</th>\n",
       "      <td>2022-02-01</td>\n",
       "      <td>432.959991</td>\n",
       "      <td>458.480011</td>\n",
       "      <td>425.540009</td>\n",
       "      <td>457.130005</td>\n",
       "      <td>457.130005</td>\n",
       "      <td>22542300</td>\n",
       "    </tr>\n",
       "    <tr>\n",
       "      <th>1006</th>\n",
       "      <td>2022-02-02</td>\n",
       "      <td>448.250000</td>\n",
       "      <td>451.980011</td>\n",
       "      <td>426.480011</td>\n",
       "      <td>429.480011</td>\n",
       "      <td>429.480011</td>\n",
       "      <td>14346000</td>\n",
       "    </tr>\n",
       "    <tr>\n",
       "      <th>1007</th>\n",
       "      <td>2022-02-03</td>\n",
       "      <td>421.440002</td>\n",
       "      <td>429.260010</td>\n",
       "      <td>404.279999</td>\n",
       "      <td>405.600006</td>\n",
       "      <td>405.600006</td>\n",
       "      <td>9905200</td>\n",
       "    </tr>\n",
       "    <tr>\n",
       "      <th>1008</th>\n",
       "      <td>2022-02-04</td>\n",
       "      <td>407.309998</td>\n",
       "      <td>412.769989</td>\n",
       "      <td>396.640015</td>\n",
       "      <td>410.170013</td>\n",
       "      <td>410.170013</td>\n",
       "      <td>7782400</td>\n",
       "    </tr>\n",
       "  </tbody>\n",
       "</table>\n",
       "</div>"
      ],
      "text/plain": [
       "            Date        Open        High         Low       Close   Adj Close  \\\n",
       "1004  2022-01-31  401.970001  427.700012  398.200012  427.140015  427.140015   \n",
       "1005  2022-02-01  432.959991  458.480011  425.540009  457.130005  457.130005   \n",
       "1006  2022-02-02  448.250000  451.980011  426.480011  429.480011  429.480011   \n",
       "1007  2022-02-03  421.440002  429.260010  404.279999  405.600006  405.600006   \n",
       "1008  2022-02-04  407.309998  412.769989  396.640015  410.170013  410.170013   \n",
       "\n",
       "        Volume  \n",
       "1004  20047500  \n",
       "1005  22542300  \n",
       "1006  14346000  \n",
       "1007   9905200  \n",
       "1008   7782400  "
      ]
     },
     "execution_count": 5,
     "metadata": {},
     "output_type": "execute_result"
    }
   ],
   "source": [
    "NFLX_stocks.tail()"
   ]
  },
  {
   "cell_type": "code",
   "execution_count": 6,
   "id": "1be417d6",
   "metadata": {},
   "outputs": [
    {
     "name": "stdout",
     "output_type": "stream",
     "text": [
      "<class 'pandas.core.frame.DataFrame'>\n",
      "RangeIndex: 1009 entries, 0 to 1008\n",
      "Data columns (total 7 columns):\n",
      " #   Column     Non-Null Count  Dtype  \n",
      "---  ------     --------------  -----  \n",
      " 0   Date       1009 non-null   object \n",
      " 1   Open       1009 non-null   float64\n",
      " 2   High       1009 non-null   float64\n",
      " 3   Low        1009 non-null   float64\n",
      " 4   Close      1009 non-null   float64\n",
      " 5   Adj Close  1009 non-null   float64\n",
      " 6   Volume     1009 non-null   int64  \n",
      "dtypes: float64(5), int64(1), object(1)\n",
      "memory usage: 55.3+ KB\n"
     ]
    }
   ],
   "source": [
    "NFLX_stocks.info()\n"
   ]
  },
  {
   "cell_type": "markdown",
   "id": "260f5dea",
   "metadata": {},
   "source": [
    "Removing unwanted column"
   ]
  },
  {
   "cell_type": "code",
   "execution_count": 7,
   "id": "00a0141c",
   "metadata": {},
   "outputs": [
    {
     "data": {
      "text/html": [
       "<div>\n",
       "<style scoped>\n",
       "    .dataframe tbody tr th:only-of-type {\n",
       "        vertical-align: middle;\n",
       "    }\n",
       "\n",
       "    .dataframe tbody tr th {\n",
       "        vertical-align: top;\n",
       "    }\n",
       "\n",
       "    .dataframe thead th {\n",
       "        text-align: right;\n",
       "    }\n",
       "</style>\n",
       "<table border=\"1\" class=\"dataframe\">\n",
       "  <thead>\n",
       "    <tr style=\"text-align: right;\">\n",
       "      <th></th>\n",
       "      <th>Date</th>\n",
       "      <th>Open</th>\n",
       "      <th>High</th>\n",
       "      <th>Low</th>\n",
       "      <th>Adj Close</th>\n",
       "      <th>Volume</th>\n",
       "    </tr>\n",
       "  </thead>\n",
       "  <tbody>\n",
       "    <tr>\n",
       "      <th>0</th>\n",
       "      <td>2018-02-05</td>\n",
       "      <td>262.000000</td>\n",
       "      <td>267.899994</td>\n",
       "      <td>250.029999</td>\n",
       "      <td>254.259995</td>\n",
       "      <td>11896100</td>\n",
       "    </tr>\n",
       "    <tr>\n",
       "      <th>1</th>\n",
       "      <td>2018-02-06</td>\n",
       "      <td>247.699997</td>\n",
       "      <td>266.700012</td>\n",
       "      <td>245.000000</td>\n",
       "      <td>265.720001</td>\n",
       "      <td>12595800</td>\n",
       "    </tr>\n",
       "    <tr>\n",
       "      <th>2</th>\n",
       "      <td>2018-02-07</td>\n",
       "      <td>266.579987</td>\n",
       "      <td>272.450012</td>\n",
       "      <td>264.329987</td>\n",
       "      <td>264.559998</td>\n",
       "      <td>8981500</td>\n",
       "    </tr>\n",
       "    <tr>\n",
       "      <th>3</th>\n",
       "      <td>2018-02-08</td>\n",
       "      <td>267.079987</td>\n",
       "      <td>267.619995</td>\n",
       "      <td>250.000000</td>\n",
       "      <td>250.100006</td>\n",
       "      <td>9306700</td>\n",
       "    </tr>\n",
       "    <tr>\n",
       "      <th>4</th>\n",
       "      <td>2018-02-09</td>\n",
       "      <td>253.850006</td>\n",
       "      <td>255.800003</td>\n",
       "      <td>236.110001</td>\n",
       "      <td>249.470001</td>\n",
       "      <td>16906900</td>\n",
       "    </tr>\n",
       "  </tbody>\n",
       "</table>\n",
       "</div>"
      ],
      "text/plain": [
       "         Date        Open        High         Low   Adj Close    Volume\n",
       "0  2018-02-05  262.000000  267.899994  250.029999  254.259995  11896100\n",
       "1  2018-02-06  247.699997  266.700012  245.000000  265.720001  12595800\n",
       "2  2018-02-07  266.579987  272.450012  264.329987  264.559998   8981500\n",
       "3  2018-02-08  267.079987  267.619995  250.000000  250.100006   9306700\n",
       "4  2018-02-09  253.850006  255.800003  236.110001  249.470001  16906900"
      ]
     },
     "execution_count": 7,
     "metadata": {},
     "output_type": "execute_result"
    }
   ],
   "source": [
    "NFLX_stocks.drop(columns=['Close'], inplace= True)\n",
    "NFLX_stocks.head()"
   ]
  },
  {
   "cell_type": "code",
   "execution_count": 8,
   "id": "9ee01b18",
   "metadata": {},
   "outputs": [
    {
     "data": {
      "text/plain": [
       "(1009, 6)"
      ]
     },
     "execution_count": 8,
     "metadata": {},
     "output_type": "execute_result"
    }
   ],
   "source": [
    "NFLX_stocks.shape"
   ]
  },
  {
   "cell_type": "code",
   "execution_count": 9,
   "id": "305c5166",
   "metadata": {},
   "outputs": [
    {
     "data": {
      "text/plain": [
       "Index(['Date', 'Open', 'High', 'Low', 'Adj Close', 'Volume'], dtype='object')"
      ]
     },
     "execution_count": 9,
     "metadata": {},
     "output_type": "execute_result"
    }
   ],
   "source": [
    "NFLX_stocks.columns"
   ]
  },
  {
   "cell_type": "code",
   "execution_count": 10,
   "id": "279ae59c",
   "metadata": {},
   "outputs": [
    {
     "data": {
      "text/html": [
       "<div>\n",
       "<style scoped>\n",
       "    .dataframe tbody tr th:only-of-type {\n",
       "        vertical-align: middle;\n",
       "    }\n",
       "\n",
       "    .dataframe tbody tr th {\n",
       "        vertical-align: top;\n",
       "    }\n",
       "\n",
       "    .dataframe thead th {\n",
       "        text-align: right;\n",
       "    }\n",
       "</style>\n",
       "<table border=\"1\" class=\"dataframe\">\n",
       "  <thead>\n",
       "    <tr style=\"text-align: right;\">\n",
       "      <th></th>\n",
       "      <th>Open</th>\n",
       "      <th>High</th>\n",
       "      <th>Low</th>\n",
       "      <th>Adj Close</th>\n",
       "      <th>Volume</th>\n",
       "    </tr>\n",
       "  </thead>\n",
       "  <tbody>\n",
       "    <tr>\n",
       "      <th>count</th>\n",
       "      <td>1009.000000</td>\n",
       "      <td>1009.000000</td>\n",
       "      <td>1009.000000</td>\n",
       "      <td>1009.000000</td>\n",
       "      <td>1.009000e+03</td>\n",
       "    </tr>\n",
       "    <tr>\n",
       "      <th>mean</th>\n",
       "      <td>419.059673</td>\n",
       "      <td>425.320703</td>\n",
       "      <td>412.374044</td>\n",
       "      <td>419.000733</td>\n",
       "      <td>7.570685e+06</td>\n",
       "    </tr>\n",
       "    <tr>\n",
       "      <th>std</th>\n",
       "      <td>108.537532</td>\n",
       "      <td>109.262960</td>\n",
       "      <td>107.555867</td>\n",
       "      <td>108.289999</td>\n",
       "      <td>5.465535e+06</td>\n",
       "    </tr>\n",
       "    <tr>\n",
       "      <th>min</th>\n",
       "      <td>233.919998</td>\n",
       "      <td>250.649994</td>\n",
       "      <td>231.229996</td>\n",
       "      <td>233.880005</td>\n",
       "      <td>1.144000e+06</td>\n",
       "    </tr>\n",
       "    <tr>\n",
       "      <th>25%</th>\n",
       "      <td>331.489990</td>\n",
       "      <td>336.299988</td>\n",
       "      <td>326.000000</td>\n",
       "      <td>331.619995</td>\n",
       "      <td>4.091900e+06</td>\n",
       "    </tr>\n",
       "    <tr>\n",
       "      <th>50%</th>\n",
       "      <td>377.769989</td>\n",
       "      <td>383.010010</td>\n",
       "      <td>370.880005</td>\n",
       "      <td>378.670013</td>\n",
       "      <td>5.934500e+06</td>\n",
       "    </tr>\n",
       "    <tr>\n",
       "      <th>75%</th>\n",
       "      <td>509.130005</td>\n",
       "      <td>515.630005</td>\n",
       "      <td>502.529999</td>\n",
       "      <td>509.079987</td>\n",
       "      <td>9.322400e+06</td>\n",
       "    </tr>\n",
       "    <tr>\n",
       "      <th>max</th>\n",
       "      <td>692.349976</td>\n",
       "      <td>700.989990</td>\n",
       "      <td>686.090027</td>\n",
       "      <td>691.690002</td>\n",
       "      <td>5.890430e+07</td>\n",
       "    </tr>\n",
       "  </tbody>\n",
       "</table>\n",
       "</div>"
      ],
      "text/plain": [
       "              Open         High          Low    Adj Close        Volume\n",
       "count  1009.000000  1009.000000  1009.000000  1009.000000  1.009000e+03\n",
       "mean    419.059673   425.320703   412.374044   419.000733  7.570685e+06\n",
       "std     108.537532   109.262960   107.555867   108.289999  5.465535e+06\n",
       "min     233.919998   250.649994   231.229996   233.880005  1.144000e+06\n",
       "25%     331.489990   336.299988   326.000000   331.619995  4.091900e+06\n",
       "50%     377.769989   383.010010   370.880005   378.670013  5.934500e+06\n",
       "75%     509.130005   515.630005   502.529999   509.079987  9.322400e+06\n",
       "max     692.349976   700.989990   686.090027   691.690002  5.890430e+07"
      ]
     },
     "execution_count": 10,
     "metadata": {},
     "output_type": "execute_result"
    }
   ],
   "source": [
    "NFLX_stocks.describe()"
   ]
  },
  {
   "cell_type": "code",
   "execution_count": 11,
   "id": "8092ccc7",
   "metadata": {},
   "outputs": [
    {
     "data": {
      "text/plain": [
       "Date         0\n",
       "Open         0\n",
       "High         0\n",
       "Low          0\n",
       "Adj Close    0\n",
       "Volume       0\n",
       "dtype: int64"
      ]
     },
     "execution_count": 11,
     "metadata": {},
     "output_type": "execute_result"
    }
   ],
   "source": [
    "NFLX_stocks.isna().sum()"
   ]
  },
  {
   "cell_type": "code",
   "execution_count": 12,
   "id": "9cd286e4",
   "metadata": {},
   "outputs": [
    {
     "data": {
      "text/plain": [
       "Date         0\n",
       "Open         0\n",
       "High         0\n",
       "Low          0\n",
       "Adj Close    0\n",
       "Volume       0\n",
       "dtype: int64"
      ]
     },
     "execution_count": 12,
     "metadata": {},
     "output_type": "execute_result"
    }
   ],
   "source": [
    "NFLX_stocks.isnull().sum()"
   ]
  },
  {
   "cell_type": "code",
   "execution_count": 13,
   "id": "87911e0a",
   "metadata": {},
   "outputs": [
    {
     "data": {
      "text/plain": [
       "RangeIndex(start=0, stop=1009, step=1)"
      ]
     },
     "execution_count": 13,
     "metadata": {},
     "output_type": "execute_result"
    }
   ],
   "source": [
    "NFLX_stocks.index"
   ]
  },
  {
   "cell_type": "code",
   "execution_count": 14,
   "id": "f4bf8dc6",
   "metadata": {},
   "outputs": [
    {
     "data": {
      "text/html": [
       "<div>\n",
       "<style scoped>\n",
       "    .dataframe tbody tr th:only-of-type {\n",
       "        vertical-align: middle;\n",
       "    }\n",
       "\n",
       "    .dataframe tbody tr th {\n",
       "        vertical-align: top;\n",
       "    }\n",
       "\n",
       "    .dataframe thead th {\n",
       "        text-align: right;\n",
       "    }\n",
       "</style>\n",
       "<table border=\"1\" class=\"dataframe\">\n",
       "  <thead>\n",
       "    <tr style=\"text-align: right;\">\n",
       "      <th></th>\n",
       "      <th>Open</th>\n",
       "      <th>High</th>\n",
       "      <th>Low</th>\n",
       "      <th>Adj Close</th>\n",
       "      <th>Volume</th>\n",
       "    </tr>\n",
       "  </thead>\n",
       "  <tbody>\n",
       "    <tr>\n",
       "      <th>Open</th>\n",
       "      <td>1.000000</td>\n",
       "      <td>0.998605</td>\n",
       "      <td>0.998508</td>\n",
       "      <td>0.996812</td>\n",
       "      <td>-0.415838</td>\n",
       "    </tr>\n",
       "    <tr>\n",
       "      <th>High</th>\n",
       "      <td>0.998605</td>\n",
       "      <td>1.000000</td>\n",
       "      <td>0.998203</td>\n",
       "      <td>0.998551</td>\n",
       "      <td>-0.400699</td>\n",
       "    </tr>\n",
       "    <tr>\n",
       "      <th>Low</th>\n",
       "      <td>0.998508</td>\n",
       "      <td>0.998203</td>\n",
       "      <td>1.000000</td>\n",
       "      <td>0.998544</td>\n",
       "      <td>-0.432116</td>\n",
       "    </tr>\n",
       "    <tr>\n",
       "      <th>Adj Close</th>\n",
       "      <td>0.996812</td>\n",
       "      <td>0.998551</td>\n",
       "      <td>0.998544</td>\n",
       "      <td>1.000000</td>\n",
       "      <td>-0.413362</td>\n",
       "    </tr>\n",
       "    <tr>\n",
       "      <th>Volume</th>\n",
       "      <td>-0.415838</td>\n",
       "      <td>-0.400699</td>\n",
       "      <td>-0.432116</td>\n",
       "      <td>-0.413362</td>\n",
       "      <td>1.000000</td>\n",
       "    </tr>\n",
       "  </tbody>\n",
       "</table>\n",
       "</div>"
      ],
      "text/plain": [
       "               Open      High       Low  Adj Close    Volume\n",
       "Open       1.000000  0.998605  0.998508   0.996812 -0.415838\n",
       "High       0.998605  1.000000  0.998203   0.998551 -0.400699\n",
       "Low        0.998508  0.998203  1.000000   0.998544 -0.432116\n",
       "Adj Close  0.996812  0.998551  0.998544   1.000000 -0.413362\n",
       "Volume    -0.415838 -0.400699 -0.432116  -0.413362  1.000000"
      ]
     },
     "execution_count": 14,
     "metadata": {},
     "output_type": "execute_result"
    }
   ],
   "source": [
    "NFLX_stocks.corr()"
   ]
  },
  {
   "cell_type": "code",
   "execution_count": 15,
   "id": "6c5b7181",
   "metadata": {},
   "outputs": [
    {
     "data": {
      "text/plain": [
       "0"
      ]
     },
     "execution_count": 15,
     "metadata": {},
     "output_type": "execute_result"
    }
   ],
   "source": [
    "NFLX_stocks.duplicated().sum()"
   ]
  },
  {
   "cell_type": "markdown",
   "id": "20b9cece",
   "metadata": {},
   "source": [
    "Set Date as index"
   ]
  },
  {
   "cell_type": "code",
   "execution_count": 16,
   "id": "57aee037",
   "metadata": {},
   "outputs": [
    {
     "data": {
      "text/html": [
       "<div>\n",
       "<style scoped>\n",
       "    .dataframe tbody tr th:only-of-type {\n",
       "        vertical-align: middle;\n",
       "    }\n",
       "\n",
       "    .dataframe tbody tr th {\n",
       "        vertical-align: top;\n",
       "    }\n",
       "\n",
       "    .dataframe thead th {\n",
       "        text-align: right;\n",
       "    }\n",
       "</style>\n",
       "<table border=\"1\" class=\"dataframe\">\n",
       "  <thead>\n",
       "    <tr style=\"text-align: right;\">\n",
       "      <th></th>\n",
       "      <th>Open</th>\n",
       "      <th>High</th>\n",
       "      <th>Low</th>\n",
       "      <th>Adj Close</th>\n",
       "      <th>Volume</th>\n",
       "    </tr>\n",
       "    <tr>\n",
       "      <th>Date</th>\n",
       "      <th></th>\n",
       "      <th></th>\n",
       "      <th></th>\n",
       "      <th></th>\n",
       "      <th></th>\n",
       "    </tr>\n",
       "  </thead>\n",
       "  <tbody>\n",
       "    <tr>\n",
       "      <th>2018-02-05</th>\n",
       "      <td>262.000000</td>\n",
       "      <td>267.899994</td>\n",
       "      <td>250.029999</td>\n",
       "      <td>254.259995</td>\n",
       "      <td>11896100</td>\n",
       "    </tr>\n",
       "    <tr>\n",
       "      <th>2018-02-06</th>\n",
       "      <td>247.699997</td>\n",
       "      <td>266.700012</td>\n",
       "      <td>245.000000</td>\n",
       "      <td>265.720001</td>\n",
       "      <td>12595800</td>\n",
       "    </tr>\n",
       "    <tr>\n",
       "      <th>2018-02-07</th>\n",
       "      <td>266.579987</td>\n",
       "      <td>272.450012</td>\n",
       "      <td>264.329987</td>\n",
       "      <td>264.559998</td>\n",
       "      <td>8981500</td>\n",
       "    </tr>\n",
       "    <tr>\n",
       "      <th>2018-02-08</th>\n",
       "      <td>267.079987</td>\n",
       "      <td>267.619995</td>\n",
       "      <td>250.000000</td>\n",
       "      <td>250.100006</td>\n",
       "      <td>9306700</td>\n",
       "    </tr>\n",
       "    <tr>\n",
       "      <th>2018-02-09</th>\n",
       "      <td>253.850006</td>\n",
       "      <td>255.800003</td>\n",
       "      <td>236.110001</td>\n",
       "      <td>249.470001</td>\n",
       "      <td>16906900</td>\n",
       "    </tr>\n",
       "  </tbody>\n",
       "</table>\n",
       "</div>"
      ],
      "text/plain": [
       "                  Open        High         Low   Adj Close    Volume\n",
       "Date                                                                \n",
       "2018-02-05  262.000000  267.899994  250.029999  254.259995  11896100\n",
       "2018-02-06  247.699997  266.700012  245.000000  265.720001  12595800\n",
       "2018-02-07  266.579987  272.450012  264.329987  264.559998   8981500\n",
       "2018-02-08  267.079987  267.619995  250.000000  250.100006   9306700\n",
       "2018-02-09  253.850006  255.800003  236.110001  249.470001  16906900"
      ]
     },
     "execution_count": 16,
     "metadata": {},
     "output_type": "execute_result"
    }
   ],
   "source": [
    "NFLX_stocks.set_index('Date', inplace=True)\n",
    "NFLX_stocks.head()"
   ]
  },
  {
   "cell_type": "markdown",
   "id": "ea73bd99",
   "metadata": {},
   "source": [
    "Top 5  High Stock price Value in the corresponding Date"
   ]
  },
  {
   "cell_type": "code",
   "execution_count": 17,
   "id": "5cc8466b",
   "metadata": {},
   "outputs": [
    {
     "data": {
      "text/plain": [
       "Date\n",
       "2021-11-17    700.989990\n",
       "2021-11-19    694.159973\n",
       "2021-11-18    691.739990\n",
       "2021-10-29    690.969971\n",
       "2021-11-01    689.969971\n",
       "Name: High, dtype: float64"
      ]
     },
     "execution_count": 17,
     "metadata": {},
     "output_type": "execute_result"
    }
   ],
   "source": [
    "stocks = NFLX_stocks.sort_values(by='High',ascending= False).head(5)\n",
    "stocks['High']"
   ]
  },
  {
   "cell_type": "markdown",
   "id": "cb6576ad",
   "metadata": {},
   "source": [
    "Top 5 Low Stock price Value in corresponding  Date"
   ]
  },
  {
   "cell_type": "code",
   "execution_count": 19,
   "id": "8fe44f79",
   "metadata": {},
   "outputs": [
    {
     "data": {
      "text/plain": [
       "Date\n",
       "2021-11-17    686.090027\n",
       "2021-11-18    679.739990\n",
       "2021-11-03    677.270020\n",
       "2021-11-16    676.900024\n",
       "2021-11-01    676.539978\n",
       "Name: Low, dtype: float64"
      ]
     },
     "execution_count": 19,
     "metadata": {},
     "output_type": "execute_result"
    }
   ],
   "source": [
    " stocks = NFLX_stocks.sort_values(by='Low',ascending= False).head(5)\n",
    "stocks['Low']"
   ]
  },
  {
   "cell_type": "markdown",
   "id": "49c8dc54",
   "metadata": {},
   "source": [
    "# Data Visualization"
   ]
  },
  {
   "cell_type": "markdown",
   "id": "e86265a8",
   "metadata": {},
   "source": [
    " To visualize the Stock price with overall period"
   ]
  },
  {
   "cell_type": "code",
   "execution_count": 20,
   "id": "2467399d",
   "metadata": {},
   "outputs": [
    {
     "data": {
      "image/png": "[encoded data removed]",
      "text/plain": [
       "<Figure size 1296x360 with 1 Axes>"
      ]
     },
     "metadata": {
      "needs_background": "light"
     },
     "output_type": "display_data"
    }
   ],
   "source": [
    "NFLX_stocks[['Open', 'High','Low','Adj Close']].plot(figsize=(18,5))\n",
    "plt.title(\" Netflix Stock Plot for Overall Period\", fontsize=19)\n",
    "plt.show()"
   ]
  },
  {
   "cell_type": "markdown",
   "id": "47b3c9fc",
   "metadata": {},
   "source": [
    "Change Price to Close from  year 2018 to 2022"
   ]
  },
  {
   "cell_type": "code",
   "execution_count": 21,
   "id": "738a5367",
   "metadata": {},
   "outputs": [
    {
     "data": {
      "image/png": "[encoded data removed]",
      "text/plain": [
       "<Figure size 432x288 with 1 Axes>"
      ]
     },
     "metadata": {
      "needs_background": "light"
     },
     "output_type": "display_data"
    }
   ],
   "source": [
    "NFLX_stocks['Adj Close'].plot()\n",
    "plt.xlabel('Date', fontsize= 10)\n",
    "plt.ylabel('Adj Close',fontsize= 10)\n",
    "plt.title('Change in Adj Close from 2018 to 2022',fontsize= 15)\n",
    "plt.tight_layout()"
   ]
  },
  {
   "cell_type": "markdown",
   "id": "fa90f14e",
   "metadata": {},
   "source": [
    "## Method : Linear Regression"
   ]
  },
  {
   "cell_type": "code",
   "execution_count": 22,
   "id": "dad44671",
   "metadata": {},
   "outputs": [],
   "source": [
    "from sklearn.model_selection import train_test_split\n",
    "from sklearn.linear_model import LinearRegression\n",
    "from sklearn.metrics import r2_score\n",
    "from sklearn.metrics import mean_squared_error"
   ]
  },
  {
   "cell_type": "markdown",
   "id": "8444f7c7",
   "metadata": {},
   "source": [
    "### Split the Train and Test Data"
   ]
  },
  {
   "cell_type": "code",
   "execution_count": 23,
   "id": "cf713adb",
   "metadata": {},
   "outputs": [],
   "source": [
    "x = NFLX_stocks[['Open', 'High', 'Low','Volume']].values\n",
    "y = NFLX_stocks[['Adj Close']].values"
   ]
  },
  {
   "cell_type": "code",
   "execution_count": 24,
   "id": "a1bf1f65",
   "metadata": {},
   "outputs": [
    {
     "data": {
      "text/plain": [
       "array([[2.62000000e+02, 2.67899994e+02, 2.50029999e+02, 1.18961000e+07],\n",
       "       [2.47699997e+02, 2.66700012e+02, 2.45000000e+02, 1.25958000e+07],\n",
       "       [2.66579987e+02, 2.72450012e+02, 2.64329987e+02, 8.98150000e+06],\n",
       "       ...,\n",
       "       [4.48250000e+02, 4.51980011e+02, 4.26480011e+02, 1.43460000e+07],\n",
       "       [4.21440002e+02, 4.29260010e+02, 4.04279999e+02, 9.90520000e+06],\n",
       "       [4.07309998e+02, 4.12769989e+02, 3.96640015e+02, 7.78240000e+06]])"
      ]
     },
     "execution_count": 24,
     "metadata": {},
     "output_type": "execute_result"
    }
   ],
   "source": [
    "x"
   ]
  },
  {
   "cell_type": "code",
   "execution_count": 25,
   "id": "65cda59b",
   "metadata": {},
   "outputs": [
    {
     "data": {
      "text/plain": [
       "array([[254.259995],\n",
       "       [265.720001],\n",
       "       [264.559998],\n",
       "       ...,\n",
       "       [429.480011],\n",
       "       [405.600006],\n",
       "       [410.170013]])"
      ]
     },
     "execution_count": 25,
     "metadata": {},
     "output_type": "execute_result"
    }
   ],
   "source": [
    "y"
   ]
  },
  {
   "cell_type": "code",
   "execution_count": 26,
   "id": "41a33ba4",
   "metadata": {},
   "outputs": [],
   "source": [
    "x_train,x_test,y_train,y_test= train_test_split(x, y, test_size=0.2, random_state=0)"
   ]
  },
  {
   "cell_type": "code",
   "execution_count": 27,
   "id": "53611d70",
   "metadata": {},
   "outputs": [
    {
     "name": "stdout",
     "output_type": "stream",
     "text": [
      "[[-6.08525352e-01  7.52637059e-01  8.57461003e-01  9.16527847e-08]]\n"
     ]
    }
   ],
   "source": [
    "model =  LinearRegression()\n",
    "\n",
    "model.fit(x_train,y_train)\n",
    "\n",
    "print(model.coef_)"
   ]
  },
  {
   "cell_type": "markdown",
   "id": "7510803a",
   "metadata": {},
   "source": [
    "##### Predict the Model"
   ]
  },
  {
   "cell_type": "code",
   "execution_count": 30,
   "id": "1112da34",
   "metadata": {},
   "outputs": [
    {
     "name": "stdout",
     "output_type": "stream",
     "text": [
      "[[553.9710123 ]\n",
      " [379.75715499]\n",
      " [360.31052939]\n",
      " [283.77600754]\n",
      " [260.12841761]\n",
      " [434.75951257]\n",
      " [260.74990787]\n",
      " [518.66873943]\n",
      " [315.48347691]\n",
      " [345.48489762]\n",
      " [520.05031298]\n",
      " [319.57645542]\n",
      " [492.61437106]\n",
      " [298.45577973]\n",
      " [509.20270074]\n",
      " [499.14347163]\n",
      " [290.73182569]\n",
      " [550.55425666]\n",
      " [338.1050594 ]\n",
      " [268.88774901]\n",
      " [338.98198038]\n",
      " [293.36742057]\n",
      " [461.44827732]\n",
      " [361.95950034]\n",
      " [288.38667137]\n",
      " [502.66802929]\n",
      " [500.35576967]\n",
      " [295.64490973]\n",
      " [353.29496369]\n",
      " [369.09476262]\n",
      " [280.44095715]\n",
      " [542.32936631]\n",
      " [317.56873022]\n",
      " [539.36107029]\n",
      " [309.9250409 ]\n",
      " [519.5780388 ]\n",
      " [344.81937045]\n",
      " [367.38697797]\n",
      " [512.14902109]\n",
      " [633.15564047]\n",
      " [483.94701584]\n",
      " [298.20399113]\n",
      " [298.66713838]\n",
      " [265.54380772]\n",
      " [518.05906843]\n",
      " [292.73396801]\n",
      " [297.48202484]\n",
      " [381.96007664]\n",
      " [357.34378049]\n",
      " [408.02376354]\n",
      " [367.23809342]\n",
      " [601.11033304]\n",
      " [481.83052369]\n",
      " [515.0560907 ]\n",
      " [368.23912408]\n",
      " [418.10837009]\n",
      " [376.20960153]\n",
      " [356.89297158]\n",
      " [379.6300562 ]\n",
      " [357.62789099]\n",
      " [291.36418889]\n",
      " [499.92180647]\n",
      " [491.86625612]\n",
      " [413.70317552]\n",
      " [328.2744003 ]\n",
      " [502.62529906]\n",
      " [505.68233846]\n",
      " [352.21466919]\n",
      " [323.58857255]\n",
      " [341.1969402 ]\n",
      " [656.8616296 ]\n",
      " [353.12697402]\n",
      " [265.0054111 ]\n",
      " [266.65276056]\n",
      " [435.13208372]\n",
      " [545.96035895]\n",
      " [351.81494955]\n",
      " [300.31723336]\n",
      " [583.41330027]\n",
      " [364.37742081]\n",
      " [502.25024636]\n",
      " [508.91691593]\n",
      " [524.5227945 ]\n",
      " [648.87375332]\n",
      " [360.09970617]\n",
      " [337.22252911]\n",
      " [391.92594425]\n",
      " [301.06556777]\n",
      " [357.53702498]\n",
      " [520.22503812]\n",
      " [516.92617594]\n",
      " [309.55885828]\n",
      " [364.34544229]\n",
      " [486.24955372]\n",
      " [292.49911981]\n",
      " [510.90384863]\n",
      " [363.92662501]\n",
      " [540.30546627]\n",
      " [330.72413516]\n",
      " [436.50740659]\n",
      " [541.03452706]\n",
      " [553.04923545]\n",
      " [309.51614223]\n",
      " [550.2256866 ]\n",
      " [447.79472598]\n",
      " [387.50436686]\n",
      " [433.77089787]\n",
      " [356.42044356]\n",
      " [349.53471588]\n",
      " [480.88729486]\n",
      " [330.62514038]\n",
      " [331.80058015]\n",
      " [502.09674158]\n",
      " [361.81472834]\n",
      " [513.7995509 ]\n",
      " [527.49035709]\n",
      " [487.82933517]\n",
      " [489.09759651]\n",
      " [533.58181192]\n",
      " [385.64463167]\n",
      " [412.17825997]\n",
      " [525.50366268]\n",
      " [484.92444581]\n",
      " [536.91216543]\n",
      " [340.80216828]\n",
      " [348.28118264]\n",
      " [363.57508603]\n",
      " [530.06130336]\n",
      " [545.38149508]\n",
      " [620.20269993]\n",
      " [315.21327602]\n",
      " [262.95758289]\n",
      " [565.41585636]\n",
      " [502.33387729]\n",
      " [342.44031145]\n",
      " [512.34422101]\n",
      " [364.47232658]\n",
      " [575.10030793]\n",
      " [500.65233584]\n",
      " [489.56683149]\n",
      " [310.23954627]\n",
      " [278.25983083]\n",
      " [276.78398101]\n",
      " [337.0932535 ]\n",
      " [485.40574475]\n",
      " [394.38892348]\n",
      " [450.52322188]\n",
      " [344.80150116]\n",
      " [610.95975501]\n",
      " [593.06854935]\n",
      " [493.19654885]\n",
      " [352.87038363]\n",
      " [590.20618529]\n",
      " [306.79187637]\n",
      " [312.93860164]\n",
      " [309.17714205]\n",
      " [318.12478539]\n",
      " [505.81115271]\n",
      " [558.78959526]\n",
      " [636.4557871 ]\n",
      " [353.38474006]\n",
      " [607.87899893]\n",
      " [448.07288065]\n",
      " [492.67911918]\n",
      " [531.53582333]\n",
      " [551.47252825]\n",
      " [420.01945851]\n",
      " [663.19652089]\n",
      " [504.25769347]\n",
      " [510.78923268]\n",
      " [695.77539971]\n",
      " [344.87842578]\n",
      " [370.82951665]\n",
      " [500.42804993]\n",
      " [419.4051801 ]\n",
      " [354.56018113]\n",
      " [358.96624558]\n",
      " [650.01833819]\n",
      " [372.4412704 ]\n",
      " [329.73367324]\n",
      " [557.45705079]\n",
      " [606.91107508]\n",
      " [338.76487664]\n",
      " [363.8097937 ]\n",
      " [271.84062218]\n",
      " [373.73817226]\n",
      " [524.25469709]\n",
      " [324.26302469]\n",
      " [492.58435616]\n",
      " [357.02309259]\n",
      " [362.29916483]\n",
      " [340.24320536]\n",
      " [524.1830517 ]\n",
      " [383.27001724]\n",
      " [367.12583944]\n",
      " [419.79614319]\n",
      " [582.45760586]\n",
      " [507.47618528]\n",
      " [314.48052633]\n",
      " [255.42328197]\n",
      " [306.91336089]\n",
      " [403.1450914 ]]\n"
     ]
    }
   ],
   "source": [
    "Lr_pred = model.predict(x_test)\n",
    "print(Lr_pred)"
   ]
  },
  {
   "cell_type": "markdown",
   "id": "f97a96fc",
   "metadata": {},
   "source": [
    "#### Comparing Actual and Predicted Value"
   ]
  },
  {
   "cell_type": "code",
   "execution_count": 31,
   "id": "20a72ad5",
   "metadata": {},
   "outputs": [
    {
     "data": {
      "text/html": [
       "<div>\n",
       "<style scoped>\n",
       "    .dataframe tbody tr th:only-of-type {\n",
       "        vertical-align: middle;\n",
       "    }\n",
       "\n",
       "    .dataframe tbody tr th {\n",
       "        vertical-align: top;\n",
       "    }\n",
       "\n",
       "    .dataframe thead th {\n",
       "        text-align: right;\n",
       "    }\n",
       "</style>\n",
       "<table border=\"1\" class=\"dataframe\">\n",
       "  <thead>\n",
       "    <tr style=\"text-align: right;\">\n",
       "      <th></th>\n",
       "      <th>Actual</th>\n",
       "      <th>Prediction</th>\n",
       "    </tr>\n",
       "  </thead>\n",
       "  <tbody>\n",
       "    <tr>\n",
       "      <th>0</th>\n",
       "      <td>553.729980</td>\n",
       "      <td>553.971012</td>\n",
       "    </tr>\n",
       "    <tr>\n",
       "      <th>1</th>\n",
       "      <td>379.059998</td>\n",
       "      <td>379.757155</td>\n",
       "    </tr>\n",
       "    <tr>\n",
       "      <th>2</th>\n",
       "      <td>361.399994</td>\n",
       "      <td>360.310529</td>\n",
       "    </tr>\n",
       "    <tr>\n",
       "      <th>3</th>\n",
       "      <td>281.859985</td>\n",
       "      <td>283.776008</td>\n",
       "    </tr>\n",
       "    <tr>\n",
       "      <th>4</th>\n",
       "      <td>261.429993</td>\n",
       "      <td>260.128418</td>\n",
       "    </tr>\n",
       "  </tbody>\n",
       "</table>\n",
       "</div>"
      ],
      "text/plain": [
       "       Actual  Prediction\n",
       "0  553.729980  553.971012\n",
       "1  379.059998  379.757155\n",
       "2  361.399994  360.310529\n",
       "3  281.859985  283.776008\n",
       "4  261.429993  260.128418"
      ]
     },
     "execution_count": 31,
     "metadata": {},
     "output_type": "execute_result"
    }
   ],
   "source": [
    "Lin_reg = pd.DataFrame({\"Actual\":y_test.flatten(),\"Prediction\":Lr_pred.flatten()})\n",
    "Lin_reg.head()"
   ]
  },
  {
   "cell_type": "code",
   "execution_count": 32,
   "id": "76e9043d",
   "metadata": {},
   "outputs": [
    {
     "data": {
      "text/plain": [
       "<AxesSubplot:>"
      ]
     },
     "execution_count": 32,
     "metadata": {},
     "output_type": "execute_result"
    },
    {
     "data": {
      "image/png": "[encoded data removed]",
      "text/plain": [
       "<Figure size 432x288 with 1 Axes>"
      ]
     },
     "metadata": {
      "needs_background": "light"
     },
     "output_type": "display_data"
    }
   ],
   "source": [
    "graph = Lin_reg.head(20)\n",
    "graph.plot(kind='bar')"
   ]
  },
  {
   "cell_type": "code",
   "execution_count": 33,
   "id": "44871204",
   "metadata": {},
   "outputs": [
    {
     "name": "stdout",
     "output_type": "stream",
     "text": [
      "Mean Squared Error: 16.99364846898628\n"
     ]
    }
   ],
   "source": [
    "from sklearn.metrics import mean_squared_error\n",
    "print('Mean Squared Error:',mean_squared_error(y_test,Lr_pred))\n"
   ]
  },
  {
   "cell_type": "code",
   "execution_count": 34,
   "id": "d1a57d37",
   "metadata": {},
   "outputs": [
    {
     "name": "stdout",
     "output_type": "stream",
     "text": [
      "Mean Absolute Error: 2.9013198795458575\n"
     ]
    }
   ],
   "source": [
    "from sklearn.metrics import mean_absolute_error\n",
    "print('Mean Absolute Error:',mean_absolute_error(y_test,Lr_pred))"
   ]
  },
  {
   "cell_type": "code",
   "execution_count": 35,
   "id": "6d4ab555",
   "metadata": {},
   "outputs": [
    {
     "name": "stdout",
     "output_type": "stream",
     "text": [
      "4.122335317388226\n"
     ]
    }
   ],
   "source": [
    "import math\n",
    "from sklearn.metrics import mean_squared_error\n",
    "Root_mean_squared_error = math.sqrt(mean_squared_error(y_test, Lr_pred))\n",
    "print(Root_mean_squared_error)"
   ]
  },
  {
   "cell_type": "markdown",
   "id": "6a3c29a5",
   "metadata": {},
   "source": [
    "### Accuuracy Of The Model"
   ]
  },
  {
   "cell_type": "code",
   "execution_count": 36,
   "id": "e59c7546",
   "metadata": {},
   "outputs": [
    {
     "name": "stdout",
     "output_type": "stream",
     "text": [
      "R2 score:  0.9984917455237636\n"
     ]
    }
   ],
   "source": [
    "from sklearn.metrics import r2_score\n",
    "print(\"R2 score: \",r2_score(y_test,Lr_pred))##Goodness of fit test\n"
   ]
  },
  {
   "cell_type": "markdown",
   "id": "de3f786e",
   "metadata": {},
   "source": [
    "Here, Our Fitted Model is Good Model"
   ]
  },
  {
   "cell_type": "markdown",
   "id": "ec0f3406",
   "metadata": {},
   "source": [
    "## Method: DecisionTree Regression"
   ]
  },
  {
   "cell_type": "code",
   "execution_count": 38,
   "id": "1d1d8ad3",
   "metadata": {},
   "outputs": [],
   "source": [
    "from sklearn.tree import DecisionTreeRegressor\n",
    "dt= DecisionTreeRegressor()\n",
    "\n",
    "x_train,x_test,y_train,y_test=train_test_split(x, y, test_size=0.2, random_state=0)\n"
   ]
  },
  {
   "cell_type": "code",
   "execution_count": 39,
   "id": "ae085aed",
   "metadata": {},
   "outputs": [
    {
     "name": "stdout",
     "output_type": "stream",
     "text": [
      "DecisionTreeRegressor()\n"
     ]
    }
   ],
   "source": [
    "model =  DecisionTreeRegressor()\n",
    "\n",
    "model.fit(x_train,y_train)\n",
    "\n",
    "print(model)"
   ]
  },
  {
   "cell_type": "code",
   "execution_count": 40,
   "id": "b053e679",
   "metadata": {},
   "outputs": [
    {
     "name": "stdout",
     "output_type": "stream",
     "text": [
      "[556.52002  381.720001 359.970001 278.549988 264.75     434.26001\n",
      " 255.570007 508.25     312.279999 348.519989 514.25     321.549988\n",
      " 489.429993 298.600006 497.519989 501.339996 292.859985 544.530029\n",
      " 338.019989 264.559998 338.049988 291.559998 457.850006 369.609985\n",
      " 291.559998 502.359985 501.670013 298.070007 351.769989 368.700012\n",
      " 278.140015 546.150024 321.549988 539.039978 301.779999 520.799988\n",
      " 344.5      377.140015 507.019989 628.289978 487.700012 296.779999\n",
      " 300.940002 265.920013 517.570007 295.350006 302.799988 380.399994\n",
      " 359.929993 403.829987 368.329987 606.710022 482.880005 520.25\n",
      " 364.230011 419.600006 373.25     367.649994 390.399994 356.869995\n",
      " 294.070007 505.869995 491.359985 415.269989 326.26001  503.839996\n",
      " 507.790009 350.920013 325.220001 338.049988 658.289978 354.640015\n",
      " 265.920013 269.700012 434.049988 551.340027 354.269989 302.600006\n",
      " 586.5      363.649994 509.640015 503.839996 522.859985 617.77002\n",
      " 358.779999 338.619995 398.390015 304.209991 356.269989 521.869995\n",
      " 532.280029 313.299988 367.720001 490.649994 294.980011 493.600006\n",
      " 363.829987 539.039978 336.059998 441.950012 540.679993 554.580017\n",
      " 311.76001  539.440002 457.850006 379.5      431.820007 359.970001\n",
      " 351.339996 487.350006 329.600006 336.899994 499.079987 363.829987\n",
      " 513.76001  527.070007 484.480011 491.359985 539.849976 400.480011\n",
      " 411.089996 523.109985 484.980011 539.039978 344.5      348.410004\n",
      " 366.959991 530.869995 539.039978 612.090027 312.48999  263.079987\n",
      " 566.179993 502.859985 347.73999  520.25     363.019989 577.76001\n",
      " 503.220001 488.880005 306.700012 280.480011 278.049988 325.890015\n",
      " 491.359985 398.390015 447.670013 325.890015 613.119995 591.059998\n",
      " 495.98999  354.269989 591.150024 310.839996 310.839996 307.630005\n",
      " 318.829987 514.72998  556.52002  632.659973 349.730011 606.710022\n",
      " 437.48999  492.410004 537.219971 551.340027 425.920013 658.289978\n",
      " 496.079987 510.399994 681.169983 343.279999 370.079987 499.079987\n",
      " 426.75     356.269989 359.929993 654.059998 366.959991 325.160004\n",
      " 561.929993 613.119995 338.049988 363.600006 272.790009 366.959991\n",
      " 523.280029 326.890015 492.410004 356.869995 363.019989 338.049988\n",
      " 520.799988 377.880005 368.329987 427.309998 567.52002  515.409973\n",
      " 315.480011 250.100006 306.160004 408.25    ]\n"
     ]
    }
   ],
   "source": [
    "dt_pred = model.predict(x_test)\n",
    "print(dt_pred)"
   ]
  },
  {
   "cell_type": "markdown",
   "id": "7090aa3b",
   "metadata": {},
   "source": [
    "#### Comparing Actual and Predicted Value"
   ]
  },
  {
   "cell_type": "code",
   "execution_count": 42,
   "id": "562eaa89",
   "metadata": {},
   "outputs": [
    {
     "data": {
      "text/html": [
       "<div>\n",
       "<style scoped>\n",
       "    .dataframe tbody tr th:only-of-type {\n",
       "        vertical-align: middle;\n",
       "    }\n",
       "\n",
       "    .dataframe tbody tr th {\n",
       "        vertical-align: top;\n",
       "    }\n",
       "\n",
       "    .dataframe thead th {\n",
       "        text-align: right;\n",
       "    }\n",
       "</style>\n",
       "<table border=\"1\" class=\"dataframe\">\n",
       "  <thead>\n",
       "    <tr style=\"text-align: right;\">\n",
       "      <th></th>\n",
       "      <th>Actual</th>\n",
       "      <th>Prediction</th>\n",
       "    </tr>\n",
       "  </thead>\n",
       "  <tbody>\n",
       "    <tr>\n",
       "      <th>0</th>\n",
       "      <td>553.729980</td>\n",
       "      <td>556.520020</td>\n",
       "    </tr>\n",
       "    <tr>\n",
       "      <th>1</th>\n",
       "      <td>379.059998</td>\n",
       "      <td>381.720001</td>\n",
       "    </tr>\n",
       "    <tr>\n",
       "      <th>2</th>\n",
       "      <td>361.399994</td>\n",
       "      <td>359.970001</td>\n",
       "    </tr>\n",
       "    <tr>\n",
       "      <th>3</th>\n",
       "      <td>281.859985</td>\n",
       "      <td>278.549988</td>\n",
       "    </tr>\n",
       "    <tr>\n",
       "      <th>4</th>\n",
       "      <td>261.429993</td>\n",
       "      <td>264.750000</td>\n",
       "    </tr>\n",
       "  </tbody>\n",
       "</table>\n",
       "</div>"
      ],
      "text/plain": [
       "       Actual  Prediction\n",
       "0  553.729980  556.520020\n",
       "1  379.059998  381.720001\n",
       "2  361.399994  359.970001\n",
       "3  281.859985  278.549988\n",
       "4  261.429993  264.750000"
      ]
     },
     "execution_count": 42,
     "metadata": {},
     "output_type": "execute_result"
    }
   ],
   "source": [
    "Stocks1= pd.DataFrame({\"Actual\":y_test.flatten(),\"Prediction\":dt_pred.flatten()})\n",
    "Stocks1.head()"
   ]
  },
  {
   "cell_type": "code",
   "execution_count": 43,
   "id": "9d311084",
   "metadata": {},
   "outputs": [
    {
     "data": {
      "text/plain": [
       "<AxesSubplot:>"
      ]
     },
     "execution_count": 43,
     "metadata": {},
     "output_type": "execute_result"
    },
    {
     "data": {
      "image/png": "[encoded data removed]",
      "text/plain": [
       "<Figure size 432x288 with 1 Axes>"
      ]
     },
     "metadata": {
      "needs_background": "light"
     },
     "output_type": "display_data"
    }
   ],
   "source": [
    "graph = Stocks1.head(20)\n",
    "graph.plot(kind='bar')"
   ]
  },
  {
   "cell_type": "code",
   "execution_count": 44,
   "id": "926592d4",
   "metadata": {},
   "outputs": [
    {
     "name": "stdout",
     "output_type": "stream",
     "text": [
      "Mean Squared Error: 42.491545838455046\n"
     ]
    }
   ],
   "source": [
    "from sklearn.metrics import mean_squared_error\n",
    "print('Mean Squared Error:',mean_squared_error(y_test,dt_pred))"
   ]
  },
  {
   "cell_type": "code",
   "execution_count": 45,
   "id": "b8f2eb3f",
   "metadata": {},
   "outputs": [
    {
     "name": "stdout",
     "output_type": "stream",
     "text": [
      "Mean Absolute Error: 4.352229029702974\n"
     ]
    }
   ],
   "source": [
    "from sklearn.metrics import mean_absolute_error\n",
    "print('Mean Absolute Error:',mean_absolute_error(y_test,dt_pred))"
   ]
  },
  {
   "cell_type": "code",
   "execution_count": 46,
   "id": "23d755c3",
   "metadata": {},
   "outputs": [
    {
     "name": "stdout",
     "output_type": "stream",
     "text": [
      "6.518553968362542\n"
     ]
    }
   ],
   "source": [
    "import math\n",
    "from sklearn.metrics import mean_squared_error\n",
    "Root_mean_squared_error = math.sqrt(mean_squared_error(y_test, dt_pred))\n",
    "print(Root_mean_squared_error)"
   ]
  },
  {
   "cell_type": "markdown",
   "id": "42f9a928",
   "metadata": {},
   "source": [
    "##### Predict the Model"
   ]
  },
  {
   "cell_type": "code",
   "execution_count": 47,
   "id": "85966253",
   "metadata": {},
   "outputs": [
    {
     "name": "stdout",
     "output_type": "stream",
     "text": [
      "R2 score:  0.9962287048405164\n"
     ]
    }
   ],
   "source": [
    "from sklearn.metrics import r2_score\n",
    "print(\"R2 score: \",r2_score(y_test,dt_pred))##Goodness of fit test\n"
   ]
  },
  {
   "cell_type": "markdown",
   "id": "9aa854ea",
   "metadata": {},
   "source": [
    "Here, Our Fitted Model is Good Model"
   ]
  },
  {
   "cell_type": "markdown",
   "id": "8c9e3035",
   "metadata": {},
   "source": [
    "## Method: Random Forest"
   ]
  },
  {
   "cell_type": "code",
   "execution_count": 48,
   "id": "1d9e3bb9",
   "metadata": {},
   "outputs": [],
   "source": [
    "from sklearn.ensemble import RandomForestRegressor\n",
    "\n",
    "rf= RandomForestRegressor()\n",
    "\n",
    "x_train,x_test,y_train,y_test=train_test_split(x, y, test_size=0.2, random_state=0)\n"
   ]
  },
  {
   "cell_type": "code",
   "execution_count": 49,
   "id": "a2bddb7e",
   "metadata": {},
   "outputs": [
    {
     "name": "stderr",
     "output_type": "stream",
     "text": [
      "C:\\Users\\natu\\AppData\\Local\\Temp/ipykernel_2600/981289230.py:3: DataConversionWarning: A column-vector y was passed when a 1d array was expected. Please change the shape of y to (n_samples,), for example using ravel().\n",
      "  model.fit(x_train,y_train)\n"
     ]
    },
    {
     "name": "stdout",
     "output_type": "stream",
     "text": [
      "RandomForestRegressor()\n"
     ]
    }
   ],
   "source": [
    "model =  RandomForestRegressor()\n",
    "\n",
    "model.fit(x_train,y_train)\n",
    "\n",
    "print(model)"
   ]
  },
  {
   "cell_type": "code",
   "execution_count": 50,
   "id": "d022de5c",
   "metadata": {},
   "outputs": [
    {
     "name": "stdout",
     "output_type": "stream",
     "text": [
      "[554.25051412 380.29209785 361.12050101 281.89499346 261.87949894\n",
      " 434.76259727 255.17199883 513.08929507 315.76199933 347.54739895\n",
      " 516.84749759 319.27990016 492.83490095 297.04230139 509.35159696\n",
      " 497.60319297 290.64689266 547.36931451 335.81019414 266.05209951\n",
      " 335.88409482 292.95209783 459.14610612 362.67080111 290.69569863\n",
      " 501.31608896 499.34780395 297.77550085 352.2717984  368.31879338\n",
      " 279.78609819 537.40171064 318.10299446 537.010003   305.55459991\n",
      " 520.87639905 342.13320148 376.75040046 507.35709404 634.68308422\n",
      " 485.38250266 297.42050143 300.56069723 267.83310139 518.45739351\n",
      " 290.87900146 296.23850024 380.66079898 358.72359654 410.43499773\n",
      " 368.40689464 607.12829358 481.94720216 514.29650124 364.51350027\n",
      " 416.90160242 376.7741965  355.85139978 380.97110046 358.96669971\n",
      " 293.7441994  503.00579453 488.02699787 414.0387943  327.30190298\n",
      " 501.71729344 504.25050346 349.47789301 323.21329889 337.28179607\n",
      " 656.35939695 353.15970133 267.68390301 267.6963025  429.56549695\n",
      " 548.71591001 352.85289772 301.49859815 586.92820377 364.66869937\n",
      " 504.59570267 508.42719329 527.15829769 636.49698931 360.32800022\n",
      " 338.52630055 397.87260939 303.66579628 358.27329914 518.77689261\n",
      " 530.94459978 309.86340388 364.95709678 487.04170041 293.00250241\n",
      " 509.73429838 361.62040036 537.55629091 331.97579387 437.77180132\n",
      " 538.5017915  554.15401311 312.53520325 549.76260005 457.54250304\n",
      " 380.96599904 435.51309777 355.31540033 349.40779948 469.2380041\n",
      " 330.60630328 334.10140147 501.67429406 362.58899784 511.76389468\n",
      " 527.64760724 489.29150078 489.05609293 535.85489451 396.99470616\n",
      " 415.63850236 523.24859801 487.94399686 536.04419862 340.72660326\n",
      " 348.90689095 365.32059361 530.07099542 536.44729186 615.36250313\n",
      " 313.5900947  262.01229241 565.78919823 505.76969578 344.18259596\n",
      " 516.11799441 362.36090045 575.69671165 499.93159642 489.24940063\n",
      " 308.58450344 278.66620583 277.43330025 334.2667985  488.44669456\n",
      " 397.98841049 450.71940544 333.59049905 611.15030146 592.09039754\n",
      " 488.27249934 353.99919832 589.98829581 311.28339803 312.11799938\n",
      " 309.31330381 318.09359479 506.66509144 559.9462099  633.7363806\n",
      " 350.54710294 606.92029431 435.94420027 492.1826991  536.79699416\n",
      " 550.09111069 425.50220279 659.84259817 501.00429825 509.64499584\n",
      " 681.81359945 346.20869723 368.74620145 499.86719304 422.98309663\n",
      " 354.78469928 359.60139839 653.57280278 372.30679867 329.62819967\n",
      " 563.01861103 611.06999265 337.36809424 364.64530077 271.29910474\n",
      " 370.70749711 531.50250657 325.40509951 489.68449838 358.51039942\n",
      " 362.12239887 336.74159549 521.43889321 378.31020216 368.35539776\n",
      " 424.84309822 566.46580525 510.90559036 313.41930058 253.92439587\n",
      " 304.60259979 404.5700038 ]\n"
     ]
    }
   ],
   "source": [
    "rf_pred = model.predict(x_test)\n",
    "print(rf_pred)"
   ]
  },
  {
   "cell_type": "markdown",
   "id": "dac0e40d",
   "metadata": {},
   "source": [
    "#### Comparing Actual and Predicted Value"
   ]
  },
  {
   "cell_type": "code",
   "execution_count": 51,
   "id": "394a16eb",
   "metadata": {},
   "outputs": [
    {
     "data": {
      "text/html": [
       "<div>\n",
       "<style scoped>\n",
       "    .dataframe tbody tr th:only-of-type {\n",
       "        vertical-align: middle;\n",
       "    }\n",
       "\n",
       "    .dataframe tbody tr th {\n",
       "        vertical-align: top;\n",
       "    }\n",
       "\n",
       "    .dataframe thead th {\n",
       "        text-align: right;\n",
       "    }\n",
       "</style>\n",
       "<table border=\"1\" class=\"dataframe\">\n",
       "  <thead>\n",
       "    <tr style=\"text-align: right;\">\n",
       "      <th></th>\n",
       "      <th>Actual</th>\n",
       "      <th>Prediction</th>\n",
       "    </tr>\n",
       "  </thead>\n",
       "  <tbody>\n",
       "    <tr>\n",
       "      <th>0</th>\n",
       "      <td>553.729980</td>\n",
       "      <td>554.250514</td>\n",
       "    </tr>\n",
       "    <tr>\n",
       "      <th>1</th>\n",
       "      <td>379.059998</td>\n",
       "      <td>380.292098</td>\n",
       "    </tr>\n",
       "    <tr>\n",
       "      <th>2</th>\n",
       "      <td>361.399994</td>\n",
       "      <td>361.120501</td>\n",
       "    </tr>\n",
       "    <tr>\n",
       "      <th>3</th>\n",
       "      <td>281.859985</td>\n",
       "      <td>281.894993</td>\n",
       "    </tr>\n",
       "    <tr>\n",
       "      <th>4</th>\n",
       "      <td>261.429993</td>\n",
       "      <td>261.879499</td>\n",
       "    </tr>\n",
       "  </tbody>\n",
       "</table>\n",
       "</div>"
      ],
      "text/plain": [
       "       Actual  Prediction\n",
       "0  553.729980  554.250514\n",
       "1  379.059998  380.292098\n",
       "2  361.399994  361.120501\n",
       "3  281.859985  281.894993\n",
       "4  261.429993  261.879499"
      ]
     },
     "execution_count": 51,
     "metadata": {},
     "output_type": "execute_result"
    }
   ],
   "source": [
    "Stocks2 = pd.DataFrame({\"Actual\":y_test.flatten(),\"Prediction\":rf_pred.flatten()})\n",
    "Stocks2.head()"
   ]
  },
  {
   "cell_type": "code",
   "execution_count": 52,
   "id": "3e9fcc10",
   "metadata": {},
   "outputs": [
    {
     "data": {
      "text/plain": [
       "<AxesSubplot:>"
      ]
     },
     "execution_count": 52,
     "metadata": {},
     "output_type": "execute_result"
    },
    {
     "data": {
      "image/png": "[encoded data removed]",
      "text/plain": [
       "<Figure size 432x288 with 1 Axes>"
      ]
     },
     "metadata": {
      "needs_background": "light"
     },
     "output_type": "display_data"
    }
   ],
   "source": [
    "graph = Stocks2.head(20)\n",
    "graph.plot(kind='bar')"
   ]
  },
  {
   "cell_type": "code",
   "execution_count": 53,
   "id": "fa52a080",
   "metadata": {},
   "outputs": [
    {
     "name": "stdout",
     "output_type": "stream",
     "text": [
      "Mean Squared Error: 28.158419956175138\n"
     ]
    }
   ],
   "source": [
    "from sklearn.metrics import mean_squared_error\n",
    "print('Mean Squared Error:',mean_squared_error(y_test,rf_pred))"
   ]
  },
  {
   "cell_type": "code",
   "execution_count": 54,
   "id": "b71baa59",
   "metadata": {},
   "outputs": [
    {
     "name": "stdout",
     "output_type": "stream",
     "text": [
      "Mean Absolute Error: 3.7325643623267415\n"
     ]
    }
   ],
   "source": [
    "from sklearn.metrics import mean_absolute_error\n",
    "print('Mean Absolute Error:',mean_absolute_error(y_test,rf_pred))"
   ]
  },
  {
   "cell_type": "code",
   "execution_count": 55,
   "id": "3151c2d1",
   "metadata": {},
   "outputs": [
    {
     "name": "stdout",
     "output_type": "stream",
     "text": [
      "5.306450787124586\n"
     ]
    }
   ],
   "source": [
    "import math\n",
    "from sklearn.metrics import mean_squared_error\n",
    "Root_mean_squared_error = math.sqrt(mean_squared_error(y_test, rf_pred))\n",
    "print(Root_mean_squared_error)"
   ]
  },
  {
   "cell_type": "markdown",
   "id": "4c481c72",
   "metadata": {},
   "source": [
    "##### Accuracy of the Model"
   ]
  },
  {
   "cell_type": "code",
   "execution_count": 56,
   "id": "2563bba6",
   "metadata": {},
   "outputs": [
    {
     "name": "stdout",
     "output_type": "stream",
     "text": [
      "R2 score:  0.9975008272637772\n"
     ]
    }
   ],
   "source": [
    "from sklearn.metrics import r2_score\n",
    "print(\"R2 score: \",r2_score(y_test,rf_pred))##Goodness of fit test\n"
   ]
  },
  {
   "cell_type": "markdown",
   "id": "4a0798d0",
   "metadata": {},
   "source": [
    "#### Conclusion"
   ]
  },
  {
   "cell_type": "markdown",
   "id": "744ab0f5",
   "metadata": {},
   "source": [
    "Here the analysis of the dataset \"Netflix_Stock_Price\" was done.The dataset was downloaded from kaggle which consists of Everyday price,Price at which stock opened,Today's High,Today's Low,Close price adjusted for splits,Adjusted close price adjusted for splits and dividend and/or capital gain distributions,Volume of Stocks etc.The attempt was to use various regression models to predict the price of the stocks.Here R2 score (coefficient of Determination) and Mean Squared Error(MSE)are used to evaluate and compare the performance of regressors. The following Results are\n",
    "\n",
    "             1) Linear Regression: R2 Score: 0.9984917455237636, MSE:16.99364846898628\n",
    "   \n",
    "              2) DecisionTree Regression: R2 Score: 0.9962287048405164, MSE:42.491545838455046\n",
    "   \n",
    "               3) RandomForest Regression: R2 Score: 0.9975008272637772, MSE:28.158419956175138\n",
    "   "
   ]
  },
  {
   "cell_type": "markdown",
   "id": "74bea8d3",
   "metadata": {},
   "source": [
    "#### Looking at the above results, it can be concluded that Linear Regression Model is recommended as it will give a better Performance compared to other models."
   ]
  },
  {
   "cell_type": "code",
   "execution_count": null,
   "id": "90d11508",
   "metadata": {},
   "outputs": [],
   "source": []
  }
 ],
 "metadata": {
  "kernelspec": {
   "display_name": "Python 3 (ipykernel)",
   "language": "python",
   "name": "python3"
  },
  "language_info": {
   "codemirror_mode": {
    "name": "ipython",
    "version": 3
   },
   "file_extension": ".py",
   "mimetype": "text/x-python",
   "name": "python",
   "nbconvert_exporter": "python",
   "pygments_lexer": "ipython3",
   "version": "3.9.7"
  }
 },
 "nbformat": 4,
 "nbformat_minor": 5
}
